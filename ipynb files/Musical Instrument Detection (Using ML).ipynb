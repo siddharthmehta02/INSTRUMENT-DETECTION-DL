{
 "cells": [
  {
   "cell_type": "code",
   "execution_count": 1,
   "id": "366ab705",
   "metadata": {},
   "outputs": [
    {
     "name": "stdout",
     "output_type": "stream",
     "text": [
      "SIDD\n"
     ]
    }
   ],
   "source": [
    "import matplotlib.pyplot as plt\n",
    "import numpy as np\n",
    "import tensorflow as tf\n",
    "from tensorflow import keras\n",
    "from tensorflow.keras import layers\n",
    "from tensorflow.keras.models import Sequential\n",
    "import os \n",
    "import librosa\n",
    "import librosa.display\n",
    "import time\n",
    "print(\"SIDD\")\n"
   ]
  },
  {
   "cell_type": "code",
   "execution_count": 2,
   "id": "8922bfba",
   "metadata": {},
   "outputs": [],
   "source": [
    "BASE_DIR=\"/home/siddhu/Downloads/IBM DATASET\""
   ]
  },
  {
   "cell_type": "code",
   "execution_count": 6,
   "id": "5a21e1f2",
   "metadata": {},
   "outputs": [],
   "source": [
    "os.chdir(BASE_DIR)\n",
    "MAIN_FOLDER=(os.listdir(os.getcwd()))"
   ]
  },
  {
   "cell_type": "code",
   "execution_count": 7,
   "id": "c8e0fd60",
   "metadata": {},
   "outputs": [
    {
     "name": "stdout",
     "output_type": "stream",
     "text": [
      "['voi', 'pia', 'cla', 'gel', 'gac', 'org', 'sax', 'cel', 'vio', 'flu', 'tru']\n",
      "['voi', 'pia', 'cla', 'gel', 'gac', 'org', 'sax', 'cel', 'vio', 'flu', 'tru']\n",
      "['voi', 'pia', 'cla', 'gel', 'gac', 'org', 'sax', 'cel', 'vio', 'flu', 'tru']\n",
      "['pia', 'cla', 'gel', 'gac', 'sax', 'cel', 'vio', 'flu', 'tru']\n",
      "['voi', 'pia', 'cla', 'gel', 'gac', 'org', 'sax', 'cel', 'vio', 'flu', 'tru']\n",
      "['voi', 'pia', 'cla', 'gel', 'gac', 'org', 'sax', 'cel', 'vio', 'flu', 'tru']\n"
     ]
    }
   ],
   "source": [
    "for i in MAIN_FOLDER:\n",
    "    SUB_FOLDER=os.path.join(os.getcwd(),i+\"/IRMAS dataset/IRMAS-TrainingData\")\n",
    "    print(os.listdir(SUB_FOLDER))"
   ]
  },
  {
   "cell_type": "code",
   "execution_count": 47,
   "id": "61ed4090",
   "metadata": {},
   "outputs": [],
   "source": [
    "audio_file_path=BASE_DIR+\"/IRMAS dataset-20210515T054853Z-001/IRMAS dataset/IRMAS-TrainingData/cel/012__[cel][nod][cla]0043__1.wav\"\n",
    "librosa_audio_data,librosa_sample_rate=librosa.load(audio_file_path)"
   ]
  },
  {
   "cell_type": "code",
   "execution_count": 25,
   "id": "ecb2aa4d",
   "metadata": {},
   "outputs": [],
   "source": [
    "# from librosa import feature\n",
    "# fn_list_i = [\n",
    "#     feature.chroma_stft,\n",
    "#     feature.spectral_centroid,\n",
    "#     feature.spectral_bandwidth,\n",
    "#     feature.spectral_rolloff,\n",
    "#     feature.chroma_cqt,\n",
    "#     feature.chroma_cens,\n",
    "#     feature.mfcc,\n",
    "#     feature.spectral_contrast,\n",
    "#     feature.poly_features,\n",
    "#     feature.tonnetz\n",
    "# ]\n",
    "  \n",
    "# fn_list_ii = [\n",
    "#     feature.rms,\n",
    "#     feature.zero_crossing_rate,\n",
    "#     feature.spectral_flatness,\n",
    "# ]\n",
    "\n",
    "# def get_feature_vector(filename):\n",
    "#     y,sr=librosa.load(filename)\n",
    "#     feat_vect_i = [ np.mean(funct(y,sr)) for funct in fn_list_i]\n",
    "#     feat_vect_ii = [ np.mean(funct(y)) for funct in fn_list_ii]\n",
    "\n",
    "#     feature_vector =   feat_vect_i + feat_vect_ii  \n",
    "#     return feature_vector"
   ]
  },
  {
   "cell_type": "code",
   "execution_count": 26,
   "id": "df201792",
   "metadata": {},
   "outputs": [],
   "source": [
    "# feature_vector = get_feature_vector(librosa_audio_data, librosa_sample_rate)"
   ]
  },
  {
   "cell_type": "code",
   "execution_count": 48,
   "id": "80658fda",
   "metadata": {},
   "outputs": [
    {
     "data": {
      "text/plain": [
       "[0.31193614,\n",
       " 1577.0023176196667,\n",
       " 1631.2702723489874,\n",
       " 3275.3658353365386,\n",
       " 0.5400405383399263,\n",
       " 0.2730790854729812,\n",
       " -6.000355,\n",
       " 24.455800285598876,\n",
       " 0.6799661665392149,\n",
       " 0.0024512848848283523,\n",
       " 0.058627985,\n",
       " 0.08984375,\n",
       " 0.00057763525]"
      ]
     },
     "execution_count": 48,
     "metadata": {},
     "output_type": "execute_result"
    }
   ],
   "source": [
    "feature_vector"
   ]
  },
  {
   "cell_type": "code",
   "execution_count": 49,
   "id": "0ed80d04",
   "metadata": {},
   "outputs": [],
   "source": [
    "vector=np.array(feature_vector)"
   ]
  },
  {
   "cell_type": "code",
   "execution_count": 50,
   "id": "1df7b62c",
   "metadata": {},
   "outputs": [
    {
     "name": "stdout",
     "output_type": "stream",
     "text": [
      "0\n"
     ]
    }
   ],
   "source": [
    "identifier={\"cel\":0,\"cla\":1,\"flu\":2,\"gac\":3,\"gel\":4,\"org\":5,\"pia\":6,\"sax\":7,\"tru\":8,\"vio\":9,\"voi\":10}\n",
    "print(identifier[\"cel\"])"
   ]
  },
  {
   "cell_type": "code",
   "execution_count": 36,
   "id": "3a6450b1",
   "metadata": {},
   "outputs": [],
   "source": [
    "import csv"
   ]
  },
  {
   "cell_type": "code",
   "execution_count": 51,
   "id": "498508ba",
   "metadata": {},
   "outputs": [
    {
     "name": "stdout",
     "output_type": "stream",
     "text": [
      ". "
     ]
    }
   ],
   "source": [
    "#build the matrix with normal audios featurized\n",
    "norm_audios_feat = []\n",
    "norm_audios_feat.append([feature_vector,identifier[\"cel\"]])  \n",
    "print('.', end= \" \")"
   ]
  },
  {
   "cell_type": "code",
   "execution_count": 52,
   "id": "28353614",
   "metadata": {},
   "outputs": [
    {
     "data": {
      "text/plain": [
       "[[[0.31193614,\n",
       "   1577.0023176196667,\n",
       "   1631.2702723489874,\n",
       "   3275.3658353365386,\n",
       "   0.5400405383399263,\n",
       "   0.2730790854729812,\n",
       "   -6.000355,\n",
       "   24.455800285598876,\n",
       "   0.6799661665392149,\n",
       "   0.0024512848848283523,\n",
       "   0.058627985,\n",
       "   0.08984375,\n",
       "   0.00057763525],\n",
       "  0]]"
      ]
     },
     "execution_count": 52,
     "metadata": {},
     "output_type": "execute_result"
    }
   ],
   "source": [
    "norm_audios_feat"
   ]
  },
  {
   "cell_type": "code",
   "execution_count": 40,
   "id": "4ea1c589",
   "metadata": {},
   "outputs": [],
   "source": [
    "norm_output = \"normals_00.csv\"\n",
    "header =[\n",
    "    \"chroma_stft\",\n",
    "    \"spectral_centroid\",\n",
    "    \"spectral_bandwidth\",\n",
    "    \"spectral_rolloff\",\n",
    "    \"chroma_cqt\",\n",
    "    \"chroma_cens\",\n",
    "    \"mfcc\",\n",
    "    \"spectral_contrast\",\n",
    "    \"poly_features\",\n",
    "    \"tonnetz\",\n",
    "    \"rms\",\n",
    "    \"zero_crossing_rate\",\n",
    "    \"spectral_flatness\",\n",
    "    \n",
    "]\n",
    "with open(norm_output,\"+w\") as f:\n",
    " csv_writer = csv.writer(f, delimiter = \",\")\n",
    " csv_writer.writerow(header)\n",
    " csv_writer.writerows(norm_audios_feat)"
   ]
  },
  {
   "cell_type": "code",
   "execution_count": 10,
   "id": "729d22f6",
   "metadata": {},
   "outputs": [
    {
     "name": "stdout",
     "output_type": "stream",
     "text": [
      "[ 0.00013466 -0.0038507  -0.010127   ...  0.00117442  0.0085911\n",
      "  0.        ]\n"
     ]
    }
   ],
   "source": [
    "print(librosa_audio_data)"
   ]
  },
  {
   "cell_type": "code",
   "execution_count": 11,
   "id": "8180b515",
   "metadata": {},
   "outputs": [
    {
     "data": {
      "text/plain": [
       "[<matplotlib.lines.Line2D at 0x7fbaaef16700>]"
      ]
     },
     "execution_count": 11,
     "metadata": {},
     "output_type": "execute_result"
    },
    {
     "data": {
      "image/png": "[encoded data removed]",
      "text/plain": [
       "<Figure size 864x288 with 1 Axes>"
      ]
     },
     "metadata": {
      "needs_background": "light"
     },
     "output_type": "display_data"
    }
   ],
   "source": [
    "plt.figure(figsize=(12,4))\n",
    "plt.plot(librosa_audio_data)"
   ]
  },
  {
   "cell_type": "code",
   "execution_count": 12,
   "id": "23bc819d",
   "metadata": {},
   "outputs": [
    {
     "name": "stdout",
     "output_type": "stream",
     "text": [
      "(40, 130)\n"
     ]
    }
   ],
   "source": [
    "mfcc=librosa.feature.mfcc(y=librosa_audio_data,sr=librosa_sample_rate,n_mfcc=40)\n",
    "print(mfcc.shape)"
   ]
  },
  {
   "cell_type": "code",
   "execution_count": 13,
   "id": "1bbc2ac9",
   "metadata": {},
   "outputs": [
    {
     "data": {
      "text/plain": [
       "array([[-357.62897  , -348.01428  , -313.92914  , ..., -313.80374  ,\n",
       "        -309.4827   , -298.71747  ],\n",
       "       [ 142.51242  ,  127.13782  ,  112.66728  , ...,  124.23071  ,\n",
       "         129.24225  ,  131.34424  ],\n",
       "       [ -10.308102 ,  -10.449833 ,  -19.639755 , ...,  -14.168493 ,\n",
       "         -15.471186 ,  -12.838678 ],\n",
       "       ...,\n",
       "       [   9.406958 ,   10.214735 ,    7.9070444, ...,   -0.378968 ,\n",
       "          -3.1280732,   -3.5267274],\n",
       "       [  -8.709026 ,   -6.3272905,   -9.904915 , ...,  -19.686235 ,\n",
       "         -15.780066 ,   -9.537672 ],\n",
       "       [ -10.415348 ,  -14.213655 ,  -18.584616 , ...,   13.066643 ,\n",
       "          11.45553  ,   11.806913 ]], dtype=float32)"
      ]
     },
     "execution_count": 13,
     "metadata": {},
     "output_type": "execute_result"
    }
   ],
   "source": [
    "mfcc"
   ]
  },
  {
   "cell_type": "code",
   "execution_count": 75,
   "id": "25f758e7",
   "metadata": {},
   "outputs": [],
   "source": [
    "from librosa import feature\n",
    "fn_list_i = [\n",
    "    feature.chroma_stft,\n",
    "    feature.spectral_centroid,\n",
    "    feature.spectral_bandwidth,\n",
    "    feature.spectral_rolloff,\n",
    "    feature.chroma_cqt,\n",
    "    feature.chroma_cens,\n",
    "    feature.mfcc,\n",
    "    feature.spectral_contrast,\n",
    "    feature.poly_features,\n",
    "    feature.tonnetz\n",
    "]\n",
    "  \n",
    "fn_list_ii = [\n",
    "    feature.rms,\n",
    "    feature.zero_crossing_rate,\n",
    "    feature.spectral_flatness,\n",
    "]\n",
    "\n",
    "def get_feature_vector(filename,classValue):\n",
    "    y,sr=librosa.load(filename)\n",
    "    feat_vect_i = [ np.mean(funct(y,sr)) for funct in fn_list_i]\n",
    "    feat_vect_ii = [ np.mean(funct(y)) for funct in fn_list_ii]\n",
    "\n",
    "    feature_vector =   feat_vect_i + feat_vect_ii  \n",
    "    feature_vector.append(classValue)\n",
    "    return feature_vector"
   ]
  },
  {
   "cell_type": "code",
   "execution_count": null,
   "id": "56c95433",
   "metadata": {},
   "outputs": [],
   "source": []
  },
  {
   "cell_type": "code",
   "execution_count": 79,
   "id": "6822b05f",
   "metadata": {},
   "outputs": [
    {
     "name": "stdout",
     "output_type": "stream",
     "text": [
      ". . . . . . . . . . . . . . . . . . . . . . . . . . . . . . . . . . . . . . . . . . . . . . . . . . . . . . . . . . . . . . . . . . . . . . . . . . . . . . . . . . . . . . . . . . . . . . . . . . . . . . . . . . . . . . . . . . . . . . . . . . . . . . . . . . . . . . . . . . . . . . . . . . . . . . . . . . . . . . . . . . . . . . . . . . . . . . . . . . . . . . . . . . . . . . . . . . . . . . . . . . . . . . . . . . . . . . . . . . . . . . . . . . . . . . . . . . . . . . . . . . . . . . . . . . . . . . . . . . . . . . . . . . . . . . . . . . . . . . . . . . . . . . . . . . . . . . . . . . . . . . . . . . . . . . . . . . . . . . . . . . . . . . . . . . . . . . . . . . . . . . . . . . . . . . . . . . . . . . . . . . . . . . . . . . . . . . . . . . . . . . . . . . . . . . . . . . . . . . . . . . . . . . . . . . . . . . . . . . . . . . . . . . . . . . . . . . . . . . . . . . . . . . . . . . . . . . . . . . . . . . . . . . . . . . . . . . . . . . . . . . . . . . . . . . . . . . . . . . . . . . . . . . . . . . . . . . . . . . . . . . . . . . . . . . . . . . . . . . . . . . . . . . . . . . . . . . . . . . . . . . . . . . . . . . . . . . . . . . . . . . . . . . . . . . . . . . . . . . . . . . . . . . . . . . . . . . . . . . . . . . . . . . . . . . . . . . . . . . . . . . . . . . . . . . . . . . . . . . . . . . . . . . . . . . . . . . . . . . . . . . . . . . . . . . . . . . . . . . . . . . . . . . . . . . . . . . . . . . . . . . . . . . . . . . . . . . . . . . . . . . . . . . . . . . . . . . . . . . . . . . . . . . . . . . . . . . . . . . . . . . . . . . . . . . . . . . . . . . . . . . . . . . . . . . . . . . . . . . . . . . . . . . . . . . . . . . . . . . . . . . . . . . . . . . . . . . . . . . . . . . . . . . . . . . . . . . . . . . . . . . . . . . . . . . . . . . . . . . . . . . . . . . . . . . . . . . . . . . . . . . . . . . . . . . . . . . . . . . . . . . . . . . . . . . . . . . . . . . . . . . . . . . . . . . . . . . . . . . . . . . . . . . . . . . . . . . . . . . . . . . . . . . . . . . . . . . . . . . . . . . . . . . . . . . . . . . . . . . . . . . . . . . . . . . . . . . . . . . . . . . . . . . . . . . . . . . . . . . . . . . . . . . . . . . . . . . . . . . . . . . . . . . . . . . . . . . . . . . . . . . . . . . . . . . . . . . . . . . . . . . . . . . . . . . . . . . . . . . . . . . . . . . . . . . . . . . . . . . . . . . . . . . . . . . . . . . . . . . . . . . . . . . . . . . . . . . . . . . . . . . . . . . . . . . . . . . . . . . . . . . . . . . . . . . . . . . . . . . . . . . . . . . . . . . . . . . . . . . . . . . . . . . . . . . . . . . . . . . . . . . . . . . . . . . . . . . . . . . . . . . . . . . . . . . . . . . . . . . . . . . . . . . . . . . . . . . . . . . . . . . . . . . . . . . . . . . . . . . . . . . . . . . . . . . . . . . . . . . . . . . . . . . . . . . . . . . . . . . . . . . . . . . . . . . . . . . . . . . . . . . . . . . . . . . . . . . . . . . . . . . . . . . . . . . . . . . . . . . . . . . . . . . . . . . . . . . . . . . . . . . . . . . . . . . . . . . . . . . . . . . . . . . . . . . . . . . . . . . . . . . . . . . . . . . . . . . . . . . . . . . . . . . . . . . . . . . . . . . . . . . . . . . . . . . . . . . . . . . . . . . . . . . . . . . . . . . . . . . . . . . . . . . . . . . . . . . . . . . . . . . . . . . . . . . . . . . . . . . . . . . . . . . . . . . . . . . . . . . . . . . . . . . . . . . . . . . . . . . . . . . . . . . . . . . . . . . . . . . . . . . . . . . . . . . . . . . . . . . . . . . . . . . . . . . . . . . . . . . . . . . . . . . . . . . . . . . . . . . . . . . . . . . . . . . . . . . . . . . . . . . . . . . . . . . . . . . . . . . . . . . . . . . . . . . . . . . . . . . . . . . . . . . . . . . . . . . . . . . . . . . . . . . . . . . . . . . . . . . . . . . . . . . . . . . . . . . . . . . . . . . . . . . . . . . . . . . . . . . . . . . . . . . . . . . . . . . . . . . . . . . . . . . . . . . . . . . . . . . . . . . . . . . . . . . . . . . . . . . . . . . . . . . . . . . . . . . . . . . . . . . . . . . . . . . . . . . . . . . . . . . . . . . . . . . . . . . . . . . . . . . . . . . . . . . . . . . . . . . . . . . . . . . . . . . . . . . . . . . . . . . . . . . . . . . . . . . . . . . . . . . . . . . . . . . . . . . . . . . . . . . . . . . . . . . . . . . . . . . . . . . . . . . . . . . . . . . . . . . . . . . . . . . . . . . . . . . . . . . . . . . . . . . . . . . . . . . . . . . . . . . . . . . . . . . . . . . . . . . . . . . . . . . . . . . . . . . . . . . . . . . . . . . . . . . . . . . . . . . . . . . . . . . . . . . . . . . . . . . . . . . . . . . . . . . . . . . . . . . . . . . . . . . . . . . . . . . . . . . . . . . . . . . . . . . . . . . . . . . . . . . . . . . . . . . . . . . . . . . . . . . . . . . . . . . . . . . . . . . . . . . . . . . . . . . . . . . . . . . . . . . . . . . . . . . . . . . . . . . . . . . . . . . . . . . . . . . . . . . . . . . . . . . . . . . . . . . . . . . . . . . . . . . . . . . . . . . . . . . . . . . . . . . . . . . . . . . . . . . . . . . . . . . . . . . . . . . . . . . . . . . . . . . . . . . . . . . . . . . . . . . . . . . . . . . . . . . . . . . . . . . . . . . . . . . . . . . . . . . . . . . . . . . . . . . . . . . . . . . . . . . . . . . . . . . . . . . . . . . . . . . . . . . . . . . . . . . . . . . . . . . . . . . . . . . . . . . . . . . . . . . . . . . . . . . . . . . . . . . . . . . . . . . . . . . . . . . . . . . . . . . . . . . . . . . . . . . . . . . . . . . . . . . . . . . . . . . . . . . . . . . . . . . . . . . . . . . . . . . . . . . . . . . . . . . . . . . . . . . . . . . . . . . . . . . . . . . . . . . . . . . . . . . . . . . . . . . . . . . . . . . . . . . . . . . . . . . . . . . . . . . . . . . . . . . . . . . . . . . . . . . . . . . . . . . . . . . . . . . . . . . . . . . . . . . . . . . . . . . . . . . . . . . . . . . . . . . . . . . . . . . . . . . . . . . . . . . . . . . . . . . . . . . . . . . . . . . . . . . . . . . . . . . . . . . . . . . . . . . . . . . . . . . . . . . . . . . . . . . . . . . . . . . . . . . . . . . . . . . . . . . . . . . . . . . . . . . . . . . . . . . . . . . . . . . . . . . . . . . . . . . . . . . . . . . . . . . . . . . . . . . . . . . . . . . . . . . . . . . . . . . . . . . . . . . . . . . . . . . . . . . . . . . . . . . . . . . . . . . . . . . . . . . . . . . . . . . . . . . . . . . . . . . . . . . . . . . . . . . . . . . . . . . . . . . . . . . . . . . . . . . . . . . . . . . . . . . . . . . . . . . . . . . . . . . . . . . . . . . . . . . . . . . . . . . . . . . . . . . . . . . . . . . . . . . . . . . . . . . . . . . . . . . . . . . . . . . . . . . . . . . . . . . . . . . . . . . . . . . . . . . . . . . . . . . . . . . . . . . . . . . . . . . . . . . . . . . . . . . . . . . . . . . . . . . . . . . . . . . . . . . . . . . . . . . . . . . . . . . . . . . . . . . . . . . . . . . . . . . . . . . . . . . . . . . . . . . . . . . . . . . . . . . . . . . . . . . . . . . . . . . . . . . . . . . . . . . . . . . . . . . . . . . . . . . . . . . . . . . . . . . . . . . . . . . . . . . . . . . . . . . . . . . . . . . . . . . . . . . . . . . . . . . . . . . . . . . . . . . . . . . . . . . . . . . . . . . . . . . . . . . . . . . . . . . . . . . . . . . . . . . . . . . . . . . . . . . . . . . . . . . . . . . . . . . . . . . . . . . . . . . . . . . . . . . . . . . . . . . . . . . . . . . . . . . . . . . . . . . . . . . . . . . . . . . . . . . . . . . . . . . . . . . . . . . . . . . . . . . . . . . . . . . . . . . . . . . . . . . . . . . . . . . . . . . . . . . . . . . . . . . . . . . . . . . . . . . . . . . . . . . . . . . . . . . . . . . . . . . . . . . . . . . . . . . . . . . . . . . . . . . . . . . . . . . . . . . . . . . . . . . . . . . . . . . . . . . . . . . . . . . . . . . . . . . . . . . . . . . . . . . . . . . . . . . . . . . . . . . . . . . . . . . . . . . . . . . . . . . . . . . . . . . . . . . . . . . . . . . . . . . . . . . . . . . . . . . . . . . . . . . . . . . . . . . . . . . . . . . . . . . . . . . . . . . . . . . . . . . . . . . . . . . . . . . . . . . . . . . . . . . . . . . . . . . . . . . . . . . . . . . . . . . . . . . . . . . . . . . . . . . . . . . . . . . . . . . . . . . . . . . . . . . . . . . . . . . . . . "
     ]
    },
    {
     "name": "stdout",
     "output_type": "stream",
     "text": [
      ". . . . . . . . . . . . . . . . . . . . . . . . . . . . . . . . . . . . . . . . . . . . . . . . . . . . . . . . . . . . . . . . . . . . . . . . . . . . . . . . . . . . . . . . . . . . . . . . . . . . . . . . . . . . . . . . . . . . . . . . . . . . . . . . . . . . . . . . . . . . . . . . . . . . . . . . . . . . . . . . . . . . . . . . . . . . . . . . . . . . . . . . . . . . . . . . . . . . . . . . . . . . . . . . . . . . . . . . . . . . . . . . . . . . . . . . . . . . . . . . . . . . . . . . . . . . . . . . . . . . . . . . . . . . . . . . . . . . . . . . . . . . . . . . . . . . . . . . . . . . . . . . . . . . . . . . . . . . . . . . . . . . . . . . . . . . . . . . . . . . . . . . . . . . . . . . . . . . . . . . . . . . . . . . . . . . . . . . . . . . . . . . . . . . . . . . . . . . . . . . . . . . . . . . . . . . . . . . . . . . . . . . . . . . . . . . . . . . . . . . . . . . . . . . . . . . . . . . . . . . . . . . . . . . . . . . . . . . . . . . . . . . . . . . . . . . . . . . . . . . . . . . . . . . . . . . . . . . . . . . . . . . . . . . . . . . . . . . . . . . . . . . . . . . . . . . . . . . . . . . . . . . . . . . . . . . . . . . . . . . . . . . . . . . . . . . . . . . . . . . . . . . . . . . . . . . . . . . . . . . . . . . . . . . . . . . . . . . . . . . . . . . . . . . . . . . . . . . . . . . . . . . . . . . . . . . . . . . . . . . . . . . . . . . . . . . . . . . . . . . . . . . . . . . . . . . . . . . . . . . . . . . . . . . . . . . . . . . . . . . . . . . . . . . . . . . . . . . . . . . . . . . . . . . . . . . . . . . . . . . . . . . . . . . . . . . . . . . . . . . . . . . . . . . . . . . . . . . . . . . . . . . . . . . . . . . . . . . . . . . . . . . . . . . . . . . . . . . . . . . . . . . . . . . . . . . . . . . . . . . . . . . . . . . . . . . . . . . . . . . . . . . . . . . . . . . . . . . . . . . . . . . . . . . . . . . . . . . . . . . . . . . . . . . . . . . . . . . . . . . . . . . . . . . . . . . . . . . . . . . . . . . . . . . . . . . . . . . . . . . . . . . . . . . . . . . . . . . . . . . . . . . . . . . . . . . . . . . . . . . . . . . . . . . . . . . . . . . . . . . . . . . . . . . . . . . . . . . . . . . . . . . . . . . . . . . . . . . . . . . . . . . . . . . . . . . . . . . . . . . . . . . . . . . . . . . . . . . . . . . . . . . . . . . . . . . . . . . . . . . . . . . . . . . . . . . . . . . . . . . . . . . . . . . . . . . . . . . . . . . . . . . . . . . . . . . . . . . . . . . . . . . . . . . . . . . . . . . . . . . . . . . . . . . . . . . . . . . . . . . . . . . . . . . . . . . . . . . . . . . . . . . . . . . . . . . . . . . . . . . . . . . . . . . . . . . . . . . . . . . . . . . . . . . . . . . . . . . . . . . . . . . . . . . . . . . . . . . . . . . . . . . . . . . . . . . . . . . . . . . . . . . . . . . . . . . . . . . . . . . . . . . . . . . . . . . . . . . . . . . . . . . . . . . . . . . . . . . . . . . . . . . . . . . . . . . . . . . . . . . . . . . . . . . . . . . . . . . . . . . . . . . . . . . . . . . . . . . . . . . . . . . . . . . . . . . . . . . . . . . . . . . . . . . . . . . . . . . . . . . . . . . . . . . . . . . . . . . . . . . . . . . . . . . . . . . . . . . . . . . . . . . . . . . . . . . . . . . . . . . . . . . . . . . . . . . . . . . . . . . . . . . . . . . . . . . . . . . . . . . . . . . . . . . . . . . . . . . . . . . . . . . . . . . . . . . . . . . . . . . . . . . . . . . . . . . . . . . . . . . . . . . . . . . . . . . . . . . . . . . . . . . . . . . . . . . . . . . . . . . . . . . . . . . . . . . . . . . . . . . . . . . . . . . . . . . . . . . . . . . . . . . . . . . . . . . . . . . . . . . . . . . . . . . . . . . . . . . . . . . . . . . . . . . . . . . . . . . . . . . . . . . . . . . . . . . . . . . . . . . . . . . . . . . . . . . . . . . . . . . . . . . . . . . . . . . . . . . . . . . . . . . . . . . . . . . . . . . . . . . . . . . . . . . . . . . . . . . . . . . . . . . . . . . . . . . . . . . . . . . . . . . . . . . . . . . . . . . . . . . . . . . . . . . . . . . . . . . . . . . . . . . . . . . . . . . . . . . . . . . . . . . . . . . . . . . . . . . . . . . . . . . . . . . . . . . . . . . . . . . . . . . . . . . . . . . . . . . . . . . . . . . . . . . . . . . . . . . . . . . . . . . . . . . . . . . . . . . . . . . . . . . . . . . . . . . . . . . . . . . . . . . . . . . . . . . . . . . . . . . . . . . . . . . . . . . . . . . . . . . . . . . . . . . . . . . . . . . . . . . . . . . . . . . . . . . . . . . . . . . . . . . . . . . . . . . . . . . . . . . . . . . . . . . . . . . . . . . . . . . . . . . . . . . . . . . . . . . . . . . . . . . . . . . . . . . . . . . . . . . . . . . . . . . . . . . . . . . . . . . . . . . . . . . . . . . . . . . . . . . . . . . . . . . . . . . . . . . . . . . . . . . . . . . . . . . . . . . . . . . . . . . . . . . . . . . . . . . . . . . . . . . . . . . . . . . . . . . . . . . . . . . . . . . . . . . . . . . . . . . . . . . . . . . . . . . . . . . . . . . . . . . . . . . . . . . . . . . . . . . . . . . . . . . . . . . . . . . . . . . . . . . . . . . . . . . . . . . . . . . . . . . . . . . . . . . . . . . . . . . . . . . . . . . . . . . . . . . . . . . . . . . . . . . . . . . . . . . . . . . . . . . . . . . . . . . . . . . . . . . . . . . . . . . "
     ]
    }
   ],
   "source": [
    "norm_audios_feat = []\n",
    "for i in MAIN_FOLDER:\n",
    "    SUB_FOLDER=os.path.join(os.getcwd(),i+\"/IRMAS dataset/IRMAS-TrainingData\")\n",
    "    for j in os.listdir(SUB_FOLDER):\n",
    "        files=os.path.join(SUB_FOLDER,j)\n",
    "        for k in os.listdir(files):\n",
    "            file_name=SUB_FOLDER+\"/\"+j+\"/\"+k\n",
    "            final_class_labels=j\n",
    "            feature_vector=get_feature_vector(file_name,identifier[j])\n",
    "            norm_audios_feat.append(feature_vector)  \n",
    "            print(\".\", end= \" \")"
   ]
  },
  {
   "cell_type": "code",
   "execution_count": 80,
   "id": "8e7d6376",
   "metadata": {},
   "outputs": [
    {
     "data": {
      "text/plain": [
       "[[0.20974986,\n",
       "  1582.8861069379811,\n",
       "  1498.181908206626,\n",
       "  2848.6771334134614,\n",
       "  0.4592835833267395,\n",
       "  0.2554255413803821,\n",
       "  -12.919432,\n",
       "  26.429404696174256,\n",
       "  0.5699119493480184,\n",
       "  -0.010716485137524849,\n",
       "  0.053666245,\n",
       "  0.10061974158653846,\n",
       "  0.00083612546,\n",
       "  1],\n",
       " [0.3775253,\n",
       "  1445.0865021444847,\n",
       "  1530.300464450924,\n",
       "  2733.64013671875,\n",
       "  0.6321196385989644,\n",
       "  0.28063987373805477,\n",
       "  -5.1142488,\n",
       "  23.18282893149702,\n",
       "  0.7534090804604463,\n",
       "  -0.0016255426850482954,\n",
       "  0.052900646,\n",
       "  0.09898963341346154,\n",
       "  0.0014282869,\n",
       "  1],\n",
       " [0.23989241,\n",
       "  953.3133480095248,\n",
       "  1187.5380502830449,\n",
       "  1642.8177584134614,\n",
       "  0.4266610601225687,\n",
       "  0.24252377280751186,\n",
       "  -5.5824523,\n",
       "  24.44266885882014,\n",
       "  0.885648785839289,\n",
       "  0.008727288619314856,\n",
       "  0.11531172,\n",
       "  0.05532977764423077,\n",
       "  0.000253168,\n",
       "  1],\n",
       " [0.20995726,\n",
       "  1133.4182130216932,\n",
       "  1451.6412275420962,\n",
       "  1957.2853440504807,\n",
       "  0.420623696265581,\n",
       "  0.23731713636812019,\n",
       "  -2.7426913,\n",
       "  27.08513186162545,\n",
       "  0.6680095328056059,\n",
       "  0.0010988014272783346,\n",
       "  0.086280346,\n",
       "  0.06775841346153846,\n",
       "  0.00044349823,\n",
       "  1],\n",
       " [0.20793734,\n",
       "  1395.7798472558152,\n",
       "  1261.0837506053272,\n",
       "  2471.1006986177886,\n",
       "  0.43620642660723935,\n",
       "  0.2520974548317956,\n",
       "  -11.963557,\n",
       "  26.399350510205114,\n",
       "  1.0247350523739776,\n",
       "  0.0011720859748069422,\n",
       "  0.09837815,\n",
       "  0.08947566105769231,\n",
       "  0.00030390586,\n",
       "  1],\n",
       " [0.29294452,\n",
       "  2231.314529280461,\n",
       "  2165.532715431337,\n",
       "  4183.570087139423,\n",
       "  0.5070683716646655,\n",
       "  0.2576822125470063,\n",
       "  -3.5547423,\n",
       "  21.654459755583908,\n",
       "  1.6821343621310245,\n",
       "  -0.006420747704451161,\n",
       "  0.12105768,\n",
       "  0.12396709735576923,\n",
       "  0.014382118,\n",
       "  1],\n",
       " [0.13889368,\n",
       "  1120.7903420237462,\n",
       "  1166.8276343232292,\n",
       "  1839.3496469350962,\n",
       "  0.3405155861302415,\n",
       "  0.20603138654126232,\n",
       "  -12.042145,\n",
       "  24.465865500302336,\n",
       "  0.23536639980402635,\n",
       "  -0.005949529050703945,\n",
       "  0.030817471,\n",
       "  0.07439152644230769,\n",
       "  0.000205223,\n",
       "  1],\n",
       " [0.21972154,\n",
       "  2421.7016639809203,\n",
       "  2492.0501625126767,\n",
       "  5093.182279146635,\n",
       "  0.46172798706498275,\n",
       "  0.2612319142415371,\n",
       "  2.3711154,\n",
       "  22.781906553143223,\n",
       "  1.7413060308117567,\n",
       "  0.023321451882943697,\n",
       "  0.1917095,\n",
       "  0.11073091947115385,\n",
       "  0.013901597,\n",
       "  1],\n",
       " [0.3542429,\n",
       "  2016.2749868623723,\n",
       "  2382.8355256565283,\n",
       "  4604.709848257212,\n",
       "  0.4911704602038734,\n",
       "  0.2652212083262168,\n",
       "  1.3396695,\n",
       "  20.741425161219553,\n",
       "  1.6254423721652227,\n",
       "  0.010993046473223772,\n",
       "  0.13504024,\n",
       "  0.08891977163461538,\n",
       "  0.012342231,\n",
       "  1],\n",
       " [0.2095995,\n",
       "  1484.9691604730574,\n",
       "  1468.5602331746607,\n",
       "  2582.493614783654,\n",
       "  0.4280667544670729,\n",
       "  0.2439342073608436,\n",
       "  -4.058564,\n",
       "  28.892450686062798,\n",
       "  1.033579642272291,\n",
       "  -0.005505971450679512,\n",
       "  0.13647285,\n",
       "  0.10176532451923077,\n",
       "  0.00024812945,\n",
       "  1]]"
      ]
     },
     "execution_count": 80,
     "metadata": {},
     "output_type": "execute_result"
    }
   ],
   "source": [
    "norm_audios_feat[500:510]"
   ]
  },
  {
   "cell_type": "code",
   "execution_count": 81,
   "id": "c8fa5317",
   "metadata": {},
   "outputs": [],
   "source": [
    "norm_output = \"Features.csv\"\n",
    "header =[\n",
    "    \"chroma_stft\",\n",
    "    \"spectral_centroid\",\n",
    "    \"spectral_bandwidth\",\n",
    "    \"spectral_rolloff\",\n",
    "    \"chroma_cqt\",\n",
    "    \"chroma_cens\",\n",
    "    \"mfcc\",\n",
    "    \"spectral_contrast\",\n",
    "    \"poly_features\",\n",
    "    \"tonnetz\",\n",
    "    \"rms\",\n",
    "    \"zero_crossing_rate\",\n",
    "    \"spectral_flatness\",\n",
    "    \n",
    "]\n",
    "with open(norm_output,\"+w\") as f:\n",
    " csv_writer = csv.writer(f, delimiter = \",\")\n",
    " csv_writer.writerow(header)\n",
    " csv_writer.writerows(norm_audios_feat)"
   ]
  },
  {
   "cell_type": "code",
   "execution_count": null,
   "id": "534d0513",
   "metadata": {},
   "outputs": [],
   "source": []
  },
  {
   "cell_type": "code",
   "execution_count": null,
   "id": "062bcb99",
   "metadata": {},
   "outputs": [],
   "source": []
  },
  {
   "cell_type": "code",
   "execution_count": null,
   "id": "411ff21e",
   "metadata": {},
   "outputs": [],
   "source": []
  },
  {
   "cell_type": "code",
   "execution_count": null,
   "id": "3cc17c11",
   "metadata": {},
   "outputs": [],
   "source": []
  },
  {
   "cell_type": "code",
   "execution_count": null,
   "id": "2976de3d",
   "metadata": {},
   "outputs": [],
   "source": []
  }
 ],
 "metadata": {
  "kernelspec": {
   "display_name": "Python 3",
   "language": "python",
   "name": "python3"
  },
  "language_info": {
   "codemirror_mode": {
    "name": "ipython",
    "version": 3
   },
   "file_extension": ".py",
   "mimetype": "text/x-python",
   "name": "python",
   "nbconvert_exporter": "python",
   "pygments_lexer": "ipython3",
   "version": "3.8.8"
  }
 },
 "nbformat": 4,
 "nbformat_minor": 5
}
