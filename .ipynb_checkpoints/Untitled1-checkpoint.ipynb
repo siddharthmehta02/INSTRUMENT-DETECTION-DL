{
 "cells": [
  {
   "cell_type": "code",
   "execution_count": 1,
   "id": "24e79d7f",
   "metadata": {},
   "outputs": [],
   "source": [
    "import csv"
   ]
  },
  {
   "cell_type": "code",
   "execution_count": 2,
   "id": "07b2ec9c",
   "metadata": {},
   "outputs": [],
   "source": [
    "import os"
   ]
  },
  {
   "cell_type": "code",
   "execution_count": 5,
   "id": "fef8bdff",
   "metadata": {},
   "outputs": [],
   "source": [
    "os.chdir(\"/home/siddhu/Downloads/IBM DATASET\")"
   ]
  },
  {
   "cell_type": "code",
   "execution_count": null,
   "id": "fb33a255",
   "metadata": {
    "collapsed": true
   },
   "outputs": [],
   "source": []
  },
  {
   "cell_type": "code",
   "execution_count": null,
   "id": "3eb96939",
   "metadata": {},
   "outputs": [],
   "source": [
    "from csv import reader\n",
    "# skip first line i.e. read header first and then iterate over each row od csv as a list\n",
    "with open('students.csv', 'r') as read_obj:\n",
    "    csv_reader = reader(read_obj)\n",
    "    header = next(csv_reader)\n",
    "    # Check file as empty\n",
    "    if header != None:\n",
    "        # Iterate over each row after the header in the csv\n",
    "        for row in csv_reader:\n",
    "            # row variable is a list that represents a row in csv\n",
    "            print(row)"
   ]
  }
 ],
 "metadata": {
  "kernelspec": {
   "display_name": "Python 3",
   "language": "python",
   "name": "python3"
  },
  "language_info": {
   "codemirror_mode": {
    "name": "ipython",
    "version": 3
   },
   "file_extension": ".py",
   "mimetype": "text/x-python",
   "name": "python",
   "nbconvert_exporter": "python",
   "pygments_lexer": "ipython3",
   "version": "3.8.8"
  }
 },
 "nbformat": 4,
 "nbformat_minor": 5
}
