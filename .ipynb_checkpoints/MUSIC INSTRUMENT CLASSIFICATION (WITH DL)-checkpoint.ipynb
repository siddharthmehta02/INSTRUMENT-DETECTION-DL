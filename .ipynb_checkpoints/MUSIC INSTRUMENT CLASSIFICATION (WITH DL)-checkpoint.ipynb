{
 "cells": [
  {
   "cell_type": "code",
   "execution_count": 133,
   "id": "15587435",
   "metadata": {},
   "outputs": [
    {
     "name": "stdout",
     "output_type": "stream",
     "text": [
      "SIDD\n"
     ]
    }
   ],
   "source": [
    "import matplotlib.pyplot as plt\n",
    "import numpy as np\n",
    "import tensorflow as tf\n",
    "from tensorflow import keras\n",
    "from tensorflow.keras import layers\n",
    "from tensorflow.keras.models import Sequential\n",
    "import os \n",
    "import librosa\n",
    "import librosa.display\n",
    "import time\n",
    "print(\"SIDD\")\n"
   ]
  },
  {
   "cell_type": "code",
   "execution_count": 134,
   "id": "ad78bfac",
   "metadata": {},
   "outputs": [],
   "source": [
    "BASE_DIR=\"/home/siddhu/Downloads/IBM DATASET\""
   ]
  },
  {
   "cell_type": "code",
   "execution_count": 135,
   "id": "b5b94e26",
   "metadata": {},
   "outputs": [],
   "source": [
    "os.chdir(BASE_DIR)\n",
    "MAIN_FOLDER=(os.listdir(os.getcwd()))"
   ]
  },
  {
   "cell_type": "code",
   "execution_count": 136,
   "id": "80e04754",
   "metadata": {},
   "outputs": [
    {
     "name": "stdout",
     "output_type": "stream",
     "text": [
      "['voi', 'pia', 'cla', 'gel', 'gac', 'org', 'sax', 'cel', 'vio', 'flu', 'tru']\n",
      "['voi', 'pia', 'cla', 'gel', 'gac', 'org', 'sax', 'cel', 'vio', 'flu', 'tru']\n",
      "['voi', 'pia', 'cla', 'gel', 'gac', 'org', 'sax', 'cel', 'vio', 'flu', 'tru']\n",
      "['pia', 'cla', 'gel', 'gac', 'sax', 'cel', 'vio', 'flu', 'tru']\n",
      "['voi', 'pia', 'cla', 'gel', 'gac', 'org', 'sax', 'cel', 'vio', 'flu', 'tru']\n",
      "['voi', 'pia', 'cla', 'gel', 'gac', 'org', 'sax', 'cel', 'vio', 'flu', 'tru']\n"
     ]
    }
   ],
   "source": [
    "for i in MAIN_FOLDER:\n",
    "    SUB_FOLDER=os.path.join(os.getcwd(),i+\"/IRMAS dataset/IRMAS-TrainingData\")\n",
    "    print(os.listdir(SUB_FOLDER))"
   ]
  },
  {
   "cell_type": "code",
   "execution_count": 137,
   "id": "f60e61d4",
   "metadata": {},
   "outputs": [],
   "source": [
    "audio_file_path=\"/home/siddhu/Downloads/IBM DATASET/IRMAS dataset-20210515T054853Z-001/IRMAS dataset/IRMAS-TrainingData/cel/012__[cel][nod][cla]0043__1.wav\"\n",
    "librosa_audio_data,librosa_sample_rate=librosa.load(audio_file_path)"
   ]
  },
  {
   "cell_type": "code",
   "execution_count": 138,
   "id": "01fa2990",
   "metadata": {},
   "outputs": [
    {
     "name": "stdout",
     "output_type": "stream",
     "text": [
      "[ 0.00013466 -0.0038507  -0.010127   ...  0.00117442  0.0085911\n",
      "  0.        ]\n"
     ]
    }
   ],
   "source": [
    "print(librosa_audio_data)"
   ]
  },
  {
   "cell_type": "code",
   "execution_count": 139,
   "id": "eba7a021",
   "metadata": {},
   "outputs": [
    {
     "data": {
      "text/plain": [
       "[<matplotlib.lines.Line2D at 0x7fdc184a1f70>]"
      ]
     },
     "execution_count": 139,
     "metadata": {},
     "output_type": "execute_result"
    },
    {
     "data": {
      "image/png": "[encoded data removed]",
      "text/plain": [
       "<Figure size 864x288 with 1 Axes>"
      ]
     },
     "metadata": {
      "needs_background": "light"
     },
     "output_type": "display_data"
    }
   ],
   "source": [
    "plt.figure(figsize=(12,4))\n",
    "plt.plot(librosa_audio_data)"
   ]
  },
  {
   "cell_type": "code",
   "execution_count": 140,
   "id": "8164f9d3",
   "metadata": {},
   "outputs": [
    {
     "name": "stdout",
     "output_type": "stream",
     "text": [
      "(40, 130)\n"
     ]
    }
   ],
   "source": [
    "mfcc=librosa.feature.mfcc(y=librosa_audio_data,sr=librosa_sample_rate,n_mfcc=40)\n",
    "print(mfcc.shape)"
   ]
  },
  {
   "cell_type": "code",
   "execution_count": 141,
   "id": "455f2a22",
   "metadata": {},
   "outputs": [
    {
     "data": {
      "text/plain": [
       "array([[-357.62897  , -348.01428  , -313.92914  , ..., -313.80374  ,\n",
       "        -309.4827   , -298.71747  ],\n",
       "       [ 142.51242  ,  127.13782  ,  112.66728  , ...,  124.23071  ,\n",
       "         129.24225  ,  131.34424  ],\n",
       "       [ -10.308102 ,  -10.449833 ,  -19.639755 , ...,  -14.168493 ,\n",
       "         -15.471186 ,  -12.838678 ],\n",
       "       ...,\n",
       "       [   9.406958 ,   10.214735 ,    7.9070444, ...,   -0.378968 ,\n",
       "          -3.1280732,   -3.5267274],\n",
       "       [  -8.709026 ,   -6.3272905,   -9.904915 , ...,  -19.686235 ,\n",
       "         -15.780066 ,   -9.537672 ],\n",
       "       [ -10.415348 ,  -14.213655 ,  -18.584616 , ...,   13.066643 ,\n",
       "          11.45553  ,   11.806913 ]], dtype=float32)"
      ]
     },
     "execution_count": 141,
     "metadata": {},
     "output_type": "execute_result"
    }
   ],
   "source": [
    "mfcc"
   ]
  },
  {
   "cell_type": "code",
   "execution_count": 142,
   "id": "a9c7d206",
   "metadata": {},
   "outputs": [
    {
     "name": "stdout",
     "output_type": "stream",
     "text": [
      "[-311.14752     126.71019     -20.981855     32.269165      5.8106003\n",
      "    4.8382063    -9.349273      0.72835606   -5.867596     -1.794443\n",
      "   -6.503386      1.5271035     2.2606897     3.4743278    -4.7768292\n",
      "    4.1370325    -4.124373     -3.0805943    -3.1281273     5.7419662\n",
      "    5.1310296     5.665455      0.4158539     3.1433775    -2.1885328\n",
      "    4.2706375    -0.70019       8.91028       0.9426272     1.1885297\n",
      "   -5.1646123    -0.9908376    -4.6404214    -2.4134715    -2.2875803\n",
      "    3.1770523     3.442656      2.652967     -8.728375      1.4598871 ]\n"
     ]
    }
   ],
   "source": [
    "mfcc_scaled = np.mean(mfcc.T,axis=0)\n",
    "print(mfcc_scaled)"
   ]
  },
  {
   "cell_type": "code",
   "execution_count": 143,
   "id": "e8692d11",
   "metadata": {},
   "outputs": [
    {
     "data": {
      "text/plain": [
       "(40,)"
      ]
     },
     "execution_count": 143,
     "metadata": {},
     "output_type": "execute_result"
    }
   ],
   "source": [
    "mfcc_scaled.shape"
   ]
  },
  {
   "cell_type": "code",
   "execution_count": 144,
   "id": "97bc9917",
   "metadata": {},
   "outputs": [],
   "source": [
    "def feature_extraction(file_name):\n",
    "    audio_data,sample_rate = librosa.load(file_name,res_type=\"kaiser_best\")\n",
    "    mfcc_features = librosa.feature.mfcc(y=audio_data,sr=sample_rate,n_mfcc=60)\n",
    "    mfcc_scaled_features = np.mean(mfcc_features.T,axis=0)\n",
    "    \n",
    "    return mfcc_scaled_features"
   ]
  },
  {
   "cell_type": "code",
   "execution_count": 145,
   "id": "52134225",
   "metadata": {},
   "outputs": [],
   "source": [
    "from tqdm import tqdm"
   ]
  },
  {
   "cell_type": "code",
   "execution_count": 146,
   "id": "030d5b38",
   "metadata": {},
   "outputs": [],
   "source": [
    "extracted_features=[]\n",
    "for i in MAIN_FOLDER:\n",
    "    SUB_FOLDER=os.path.join(os.getcwd(),i+\"/IRMAS dataset/IRMAS-TrainingData\")\n",
    "    for j in os.listdir(SUB_FOLDER):\n",
    "        files=os.path.join(SUB_FOLDER,j)\n",
    "        for k in os.listdir(files):\n",
    "            file_name=SUB_FOLDER+\"/\"+j+\"/\"+k\n",
    "            final_class_labels=j\n",
    "            data=feature_extraction(file_name)\n",
    "            extracted_features.append([data,final_class_labels])"
   ]
  },
  {
   "cell_type": "code",
   "execution_count": 147,
   "id": "27dbe14d",
   "metadata": {},
   "outputs": [
    {
     "data": {
      "text/html": [
       "<div>\n",
       "<style scoped>\n",
       "    .dataframe tbody tr th:only-of-type {\n",
       "        vertical-align: middle;\n",
       "    }\n",
       "\n",
       "    .dataframe tbody tr th {\n",
       "        vertical-align: top;\n",
       "    }\n",
       "\n",
       "    .dataframe thead th {\n",
       "        text-align: right;\n",
       "    }\n",
       "</style>\n",
       "<table border=\"1\" class=\"dataframe\">\n",
       "  <thead>\n",
       "    <tr style=\"text-align: right;\">\n",
       "      <th></th>\n",
       "      <th>feature</th>\n",
       "      <th>class</th>\n",
       "    </tr>\n",
       "  </thead>\n",
       "  <tbody>\n",
       "    <tr>\n",
       "      <th>0</th>\n",
       "      <td>[-177.18793, 101.40275, 9.091078, 45.951103, 2...</td>\n",
       "      <td>voi</td>\n",
       "    </tr>\n",
       "    <tr>\n",
       "      <th>1</th>\n",
       "      <td>[-289.63864, 102.5572, 15.989151, 27.775452, 1...</td>\n",
       "      <td>voi</td>\n",
       "    </tr>\n",
       "    <tr>\n",
       "      <th>2</th>\n",
       "      <td>[-143.80713, 128.53595, -5.0421863, 27.13551, ...</td>\n",
       "      <td>voi</td>\n",
       "    </tr>\n",
       "    <tr>\n",
       "      <th>3</th>\n",
       "      <td>[-90.94316, 106.54821, -3.4879549, 17.388689, ...</td>\n",
       "      <td>voi</td>\n",
       "    </tr>\n",
       "    <tr>\n",
       "      <th>4</th>\n",
       "      <td>[-61.46023, 102.8133, -26.079569, 41.571243, -...</td>\n",
       "      <td>voi</td>\n",
       "    </tr>\n",
       "  </tbody>\n",
       "</table>\n",
       "</div>"
      ],
      "text/plain": [
       "                                             feature class\n",
       "0  [-177.18793, 101.40275, 9.091078, 45.951103, 2...   voi\n",
       "1  [-289.63864, 102.5572, 15.989151, 27.775452, 1...   voi\n",
       "2  [-143.80713, 128.53595, -5.0421863, 27.13551, ...   voi\n",
       "3  [-90.94316, 106.54821, -3.4879549, 17.388689, ...   voi\n",
       "4  [-61.46023, 102.8133, -26.079569, 41.571243, -...   voi"
      ]
     },
     "execution_count": 147,
     "metadata": {},
     "output_type": "execute_result"
    }
   ],
   "source": [
    "\n",
    "import pandas as pd\n",
    "extracted_features_df=pd.DataFrame(extracted_features,columns=['feature','class'])\n",
    "extracted_features_df.head()\n",
    "\n"
   ]
  },
  {
   "cell_type": "code",
   "execution_count": 148,
   "id": "22412bee",
   "metadata": {},
   "outputs": [],
   "source": [
    "X=np.array(extracted_features_df['feature'].tolist())\n",
    "y=np.array(extracted_features_df['class'].tolist())"
   ]
  },
  {
   "cell_type": "code",
   "execution_count": 149,
   "id": "6d0b8439",
   "metadata": {},
   "outputs": [
    {
     "data": {
      "text/plain": [
       "(6705, 60)"
      ]
     },
     "execution_count": 149,
     "metadata": {},
     "output_type": "execute_result"
    }
   ],
   "source": [
    "X.shape"
   ]
  },
  {
   "cell_type": "code",
   "execution_count": 150,
   "id": "fa471193",
   "metadata": {},
   "outputs": [
    {
     "data": {
      "text/plain": [
       "(6705,)"
      ]
     },
     "execution_count": 150,
     "metadata": {},
     "output_type": "execute_result"
    }
   ],
   "source": [
    "y.shape"
   ]
  },
  {
   "cell_type": "code",
   "execution_count": 151,
   "id": "14d839c3",
   "metadata": {},
   "outputs": [],
   "source": [
    "### Label Encoding\n",
    "y=np.array(pd.get_dummies(y))"
   ]
  },
  {
   "cell_type": "code",
   "execution_count": 152,
   "id": "7638b2aa",
   "metadata": {},
   "outputs": [
    {
     "data": {
      "text/plain": [
       "array([[0, 0, 0, ..., 0, 0, 1],\n",
       "       [0, 0, 0, ..., 0, 0, 1],\n",
       "       [0, 0, 0, ..., 0, 0, 1],\n",
       "       ...,\n",
       "       [0, 0, 0, ..., 1, 0, 0],\n",
       "       [0, 0, 0, ..., 1, 0, 0],\n",
       "       [0, 0, 0, ..., 1, 0, 0]], dtype=uint8)"
      ]
     },
     "execution_count": 152,
     "metadata": {},
     "output_type": "execute_result"
    }
   ],
   "source": [
    "y"
   ]
  },
  {
   "cell_type": "code",
   "execution_count": 153,
   "id": "9ddac78d",
   "metadata": {},
   "outputs": [
    {
     "data": {
      "text/plain": [
       "(6705, 11)"
      ]
     },
     "execution_count": 153,
     "metadata": {},
     "output_type": "execute_result"
    }
   ],
   "source": [
    "y.shape"
   ]
  },
  {
   "cell_type": "code",
   "execution_count": 154,
   "id": "9881760b",
   "metadata": {},
   "outputs": [],
   "source": [
    "# ### Label Encoder MKC Iski\n",
    "# from tensorflow.keras.utils import to_categorical\n",
    "# from sklearn.preprocessing import LabelEncoder\n",
    "# labelencoder = LabelEncoder()\n",
    "# y = to_categorical(labelencoder.fit_transform(y))"
   ]
  },
  {
   "cell_type": "code",
   "execution_count": 155,
   "id": "83fe8f87",
   "metadata": {},
   "outputs": [],
   "source": [
    "# y"
   ]
  },
  {
   "cell_type": "code",
   "execution_count": null,
   "id": "0cff6cf4",
   "metadata": {},
   "outputs": [],
   "source": []
  },
  {
   "cell_type": "code",
   "execution_count": 156,
   "id": "bdecb28c",
   "metadata": {},
   "outputs": [],
   "source": [
    "from sklearn.model_selection import train_test_split\n",
    "X_train,X_test,y_train,y_test=train_test_split(X,y,test_size=0.2,random_state=0)"
   ]
  },
  {
   "cell_type": "code",
   "execution_count": 157,
   "id": "e78db6e2",
   "metadata": {},
   "outputs": [
    {
     "data": {
      "text/plain": [
       "array([[-7.9246170e+01,  1.2656816e+02, -4.2032768e+01, ...,\n",
       "        -4.3055315e+00,  1.2402606e+00,  1.6935393e+00],\n",
       "       [-1.4716158e+02,  1.3165392e+02, -1.6785311e+01, ...,\n",
       "        -4.8082519e+00,  2.4430714e+00,  1.4555376e+00],\n",
       "       [-3.5158118e+02,  1.4135335e+02, -2.2425510e+01, ...,\n",
       "        -1.8420093e+00, -9.1205943e-01, -1.5671206e+00],\n",
       "       ...,\n",
       "       [-4.6008963e+02,  1.7400133e+02, -1.4148671e+01, ...,\n",
       "         2.5299737e+00,  2.0250223e+00,  1.8941789e+00],\n",
       "       [-5.1946995e+01,  1.0569108e+02, -3.3812273e+00, ...,\n",
       "        -1.2248613e+00, -4.0353253e-01, -1.2262239e+00],\n",
       "       [-4.2897479e+02,  1.8955518e+02, -8.8660842e-01, ...,\n",
       "         4.6621571e+00, -1.0028877e+00, -1.8675326e-01]], dtype=float32)"
      ]
     },
     "execution_count": 157,
     "metadata": {},
     "output_type": "execute_result"
    }
   ],
   "source": [
    "X_train"
   ]
  },
  {
   "cell_type": "code",
   "execution_count": 158,
   "id": "3a77ec2f",
   "metadata": {},
   "outputs": [
    {
     "data": {
      "text/plain": [
       "array([[0, 0, 0, ..., 0, 0, 1],\n",
       "       [0, 0, 0, ..., 0, 0, 1],\n",
       "       [0, 0, 0, ..., 0, 0, 1],\n",
       "       ...,\n",
       "       [0, 0, 0, ..., 1, 0, 0],\n",
       "       [0, 0, 0, ..., 1, 0, 0],\n",
       "       [0, 0, 0, ..., 1, 0, 0]], dtype=uint8)"
      ]
     },
     "execution_count": 158,
     "metadata": {},
     "output_type": "execute_result"
    }
   ],
   "source": [
    "y"
   ]
  },
  {
   "cell_type": "code",
   "execution_count": 159,
   "id": "c7361ddf",
   "metadata": {},
   "outputs": [
    {
     "data": {
      "text/plain": [
       "(5364, 60)"
      ]
     },
     "execution_count": 159,
     "metadata": {},
     "output_type": "execute_result"
    }
   ],
   "source": [
    "X_train.shape"
   ]
  },
  {
   "cell_type": "code",
   "execution_count": 160,
   "id": "86a8d7f8",
   "metadata": {},
   "outputs": [
    {
     "name": "stdout",
     "output_type": "stream",
     "text": [
      "2.4.1\n"
     ]
    }
   ],
   "source": [
    "import tensorflow as tf\n",
    "print(tf.__version__)"
   ]
  },
  {
   "cell_type": "code",
   "execution_count": 161,
   "id": "ee2d83ff",
   "metadata": {},
   "outputs": [],
   "source": [
    "from tensorflow.keras.models import Sequential\n",
    "from tensorflow.keras.layers import Dense,Dropout,Activation,Flatten\n",
    "from tensorflow.keras.optimizers import Adam\n",
    "from sklearn import metrics"
   ]
  },
  {
   "cell_type": "code",
   "execution_count": 162,
   "id": "42c67828",
   "metadata": {},
   "outputs": [],
   "source": [
    "### No of classes\n",
    "num_labels=y.shape[1]"
   ]
  },
  {
   "cell_type": "code",
   "execution_count": 183,
   "id": "283dafc5",
   "metadata": {},
   "outputs": [],
   "source": [
    "\n",
    "\n",
    "model=Sequential()\n",
    "\n",
    "model.add(Dense(400,input_shape=(60,)))\n",
    "model.add(Activation('relu'))\n",
    "model.add(Dropout(0.2))\n",
    "\n",
    "model.add(Dense(200))\n",
    "model.add(Activation('relu'))\n",
    "model.add(Dropout(0.2))\n",
    "\n",
    "model.add(Dense(100))\n",
    "model.add(Activation('relu'))\n",
    "model.add(Dropout(0.2))\n",
    "\n",
    "model.add(Dense(50))\n",
    "model.add(Activation('relu'))\n",
    "model.add(Dropout(0.2))\n",
    "\n",
    "model.add(Dense(num_labels))\n",
    "model.add(Activation('softmax'))\n",
    "\n"
   ]
  },
  {
   "cell_type": "code",
   "execution_count": 184,
   "id": "d30cf0e6",
   "metadata": {},
   "outputs": [
    {
     "name": "stdout",
     "output_type": "stream",
     "text": [
      "Model: \"sequential_7\"\n",
      "_________________________________________________________________\n",
      "Layer (type)                 Output Shape              Param #   \n",
      "=================================================================\n",
      "dense_31 (Dense)             (None, 400)               24400     \n",
      "_________________________________________________________________\n",
      "activation_31 (Activation)   (None, 400)               0         \n",
      "_________________________________________________________________\n",
      "dropout_20 (Dropout)         (None, 400)               0         \n",
      "_________________________________________________________________\n",
      "dense_32 (Dense)             (None, 200)               80200     \n",
      "_________________________________________________________________\n",
      "activation_32 (Activation)   (None, 200)               0         \n",
      "_________________________________________________________________\n",
      "dropout_21 (Dropout)         (None, 200)               0         \n",
      "_________________________________________________________________\n",
      "dense_33 (Dense)             (None, 100)               20100     \n",
      "_________________________________________________________________\n",
      "activation_33 (Activation)   (None, 100)               0         \n",
      "_________________________________________________________________\n",
      "dropout_22 (Dropout)         (None, 100)               0         \n",
      "_________________________________________________________________\n",
      "dense_34 (Dense)             (None, 50)                5050      \n",
      "_________________________________________________________________\n",
      "activation_34 (Activation)   (None, 50)                0         \n",
      "_________________________________________________________________\n",
      "dropout_23 (Dropout)         (None, 50)                0         \n",
      "_________________________________________________________________\n",
      "dense_35 (Dense)             (None, 11)                561       \n",
      "_________________________________________________________________\n",
      "activation_35 (Activation)   (None, 11)                0         \n",
      "=================================================================\n",
      "Total params: 130,311\n",
      "Trainable params: 130,311\n",
      "Non-trainable params: 0\n",
      "_________________________________________________________________\n"
     ]
    }
   ],
   "source": [
    "model.summary()"
   ]
  },
  {
   "cell_type": "code",
   "execution_count": 185,
   "id": "c3faac32",
   "metadata": {},
   "outputs": [],
   "source": [
    "model.compile(loss='categorical_crossentropy',metrics=['accuracy'],optimizer='adam')"
   ]
  },
  {
   "cell_type": "code",
   "execution_count": 188,
   "id": "9d25900d",
   "metadata": {},
   "outputs": [
    {
     "name": "stdout",
     "output_type": "stream",
     "text": [
      "Epoch 1/100\n",
      "168/168 [==============================] - 1s 4ms/step - loss: 0.3356 - accuracy: 0.8960 - val_loss: 1.7394 - val_accuracy: 0.6003\n",
      "\n",
      "Epoch 00001: val_loss improved from inf to 1.73937, saving model to saved_models/audio_classification.hdf5\n",
      "Epoch 2/100\n",
      "168/168 [==============================] - 1s 4ms/step - loss: 0.2869 - accuracy: 0.9124 - val_loss: 1.8714 - val_accuracy: 0.6025\n",
      "\n",
      "Epoch 00002: val_loss did not improve from 1.73937\n",
      "Epoch 3/100\n",
      "168/168 [==============================] - 1s 3ms/step - loss: 0.3378 - accuracy: 0.8991 - val_loss: 1.7506 - val_accuracy: 0.6078\n",
      "\n",
      "Epoch 00003: val_loss did not improve from 1.73937\n",
      "Epoch 4/100\n",
      "168/168 [==============================] - 1s 3ms/step - loss: 0.3290 - accuracy: 0.9031 - val_loss: 1.8253 - val_accuracy: 0.6197\n",
      "\n",
      "Epoch 00004: val_loss did not improve from 1.73937\n",
      "Epoch 5/100\n",
      "168/168 [==============================] - 1s 3ms/step - loss: 0.3057 - accuracy: 0.9085 - val_loss: 1.7967 - val_accuracy: 0.6160\n",
      "\n",
      "Epoch 00005: val_loss did not improve from 1.73937\n",
      "Epoch 6/100\n",
      "168/168 [==============================] - 1s 3ms/step - loss: 0.3016 - accuracy: 0.9087 - val_loss: 1.8526 - val_accuracy: 0.6204\n",
      "\n",
      "Epoch 00006: val_loss did not improve from 1.73937\n",
      "Epoch 7/100\n",
      "168/168 [==============================] - 1s 4ms/step - loss: 0.2848 - accuracy: 0.9150 - val_loss: 1.9190 - val_accuracy: 0.6234\n",
      "\n",
      "Epoch 00007: val_loss did not improve from 1.73937\n",
      "Epoch 8/100\n",
      "168/168 [==============================] - 1s 5ms/step - loss: 0.3057 - accuracy: 0.9105 - val_loss: 1.7152 - val_accuracy: 0.6324\n",
      "\n",
      "Epoch 00008: val_loss improved from 1.73937 to 1.71517, saving model to saved_models/audio_classification.hdf5\n",
      "Epoch 9/100\n",
      "168/168 [==============================] - 1s 3ms/step - loss: 0.2780 - accuracy: 0.9172 - val_loss: 1.7772 - val_accuracy: 0.6152\n",
      "\n",
      "Epoch 00009: val_loss did not improve from 1.71517\n",
      "Epoch 10/100\n",
      "168/168 [==============================] - 1s 3ms/step - loss: 0.2977 - accuracy: 0.9083 - val_loss: 1.8609 - val_accuracy: 0.6174\n",
      "\n",
      "Epoch 00010: val_loss did not improve from 1.71517\n",
      "Epoch 11/100\n",
      "168/168 [==============================] - 1s 3ms/step - loss: 0.2729 - accuracy: 0.9155 - val_loss: 1.7970 - val_accuracy: 0.6286\n",
      "\n",
      "Epoch 00011: val_loss did not improve from 1.71517\n",
      "Epoch 12/100\n",
      "168/168 [==============================] - 1s 4ms/step - loss: 0.3088 - accuracy: 0.9059 - val_loss: 1.9572 - val_accuracy: 0.6197\n",
      "\n",
      "Epoch 00012: val_loss did not improve from 1.71517\n",
      "Epoch 13/100\n",
      "168/168 [==============================] - 1s 4ms/step - loss: 0.3307 - accuracy: 0.8988 - val_loss: 1.6829 - val_accuracy: 0.6271\n",
      "\n",
      "Epoch 00013: val_loss improved from 1.71517 to 1.68285, saving model to saved_models/audio_classification.hdf5\n",
      "Epoch 14/100\n",
      "168/168 [==============================] - 1s 3ms/step - loss: 0.3228 - accuracy: 0.9049 - val_loss: 1.7979 - val_accuracy: 0.6212\n",
      "\n",
      "Epoch 00014: val_loss did not improve from 1.68285\n",
      "Epoch 15/100\n",
      "168/168 [==============================] - 1s 3ms/step - loss: 0.2910 - accuracy: 0.9128 - val_loss: 1.8375 - val_accuracy: 0.6212\n",
      "\n",
      "Epoch 00015: val_loss did not improve from 1.68285\n",
      "Epoch 16/100\n",
      "168/168 [==============================] - 1s 4ms/step - loss: 0.2886 - accuracy: 0.9128 - val_loss: 1.8620 - val_accuracy: 0.6174\n",
      "\n",
      "Epoch 00016: val_loss did not improve from 1.68285\n",
      "Epoch 17/100\n",
      "168/168 [==============================] - 1s 4ms/step - loss: 0.2874 - accuracy: 0.9088 - val_loss: 1.7799 - val_accuracy: 0.6294\n",
      "\n",
      "Epoch 00017: val_loss did not improve from 1.68285\n",
      "Epoch 18/100\n",
      "168/168 [==============================] - 1s 4ms/step - loss: 0.2794 - accuracy: 0.9144 - val_loss: 1.8921 - val_accuracy: 0.6092\n",
      "\n",
      "Epoch 00018: val_loss did not improve from 1.68285\n",
      "Epoch 19/100\n",
      "168/168 [==============================] - 1s 3ms/step - loss: 0.2983 - accuracy: 0.9120 - val_loss: 1.9209 - val_accuracy: 0.6025\n",
      "\n",
      "Epoch 00019: val_loss did not improve from 1.68285\n",
      "Epoch 20/100\n",
      "168/168 [==============================] - 1s 3ms/step - loss: 0.3011 - accuracy: 0.9064 - val_loss: 1.8921 - val_accuracy: 0.6257\n",
      "\n",
      "Epoch 00020: val_loss did not improve from 1.68285\n",
      "Epoch 21/100\n",
      "168/168 [==============================] - 1s 3ms/step - loss: 0.2729 - accuracy: 0.9152 - val_loss: 1.8410 - val_accuracy: 0.6040\n",
      "\n",
      "Epoch 00021: val_loss did not improve from 1.68285\n",
      "Epoch 22/100\n",
      "168/168 [==============================] - 1s 4ms/step - loss: 0.2627 - accuracy: 0.9224 - val_loss: 1.8090 - val_accuracy: 0.6316\n",
      "\n",
      "Epoch 00022: val_loss did not improve from 1.68285\n",
      "Epoch 23/100\n",
      "168/168 [==============================] - 1s 4ms/step - loss: 0.2873 - accuracy: 0.9146 - val_loss: 1.8086 - val_accuracy: 0.6212\n",
      "\n",
      "Epoch 00023: val_loss did not improve from 1.68285\n",
      "Epoch 24/100\n",
      "168/168 [==============================] - 1s 4ms/step - loss: 0.2720 - accuracy: 0.9180 - val_loss: 1.7592 - val_accuracy: 0.6279\n",
      "\n",
      "Epoch 00024: val_loss did not improve from 1.68285\n",
      "Epoch 25/100\n",
      "168/168 [==============================] - 1s 5ms/step - loss: 0.2519 - accuracy: 0.9221 - val_loss: 1.8244 - val_accuracy: 0.6301\n",
      "\n",
      "Epoch 00025: val_loss did not improve from 1.68285\n",
      "Epoch 26/100\n",
      "168/168 [==============================] - 1s 4ms/step - loss: 0.2771 - accuracy: 0.9163 - val_loss: 1.8251 - val_accuracy: 0.6294\n",
      "\n",
      "Epoch 00026: val_loss did not improve from 1.68285\n",
      "Epoch 27/100\n",
      "168/168 [==============================] - 1s 3ms/step - loss: 0.2933 - accuracy: 0.9113 - val_loss: 1.7784 - val_accuracy: 0.6130\n",
      "\n",
      "Epoch 00027: val_loss did not improve from 1.68285\n",
      "Epoch 28/100\n",
      "168/168 [==============================] - 1s 3ms/step - loss: 0.2686 - accuracy: 0.9191 - val_loss: 1.8814 - val_accuracy: 0.6115\n",
      "\n",
      "Epoch 00028: val_loss did not improve from 1.68285\n",
      "Epoch 29/100\n",
      "168/168 [==============================] - 1s 3ms/step - loss: 0.2813 - accuracy: 0.9109 - val_loss: 1.8211 - val_accuracy: 0.6160\n",
      "\n",
      "Epoch 00029: val_loss did not improve from 1.68285\n",
      "Epoch 30/100\n",
      "168/168 [==============================] - 0s 3ms/step - loss: 0.2661 - accuracy: 0.9202 - val_loss: 1.7812 - val_accuracy: 0.6264\n",
      "\n",
      "Epoch 00030: val_loss did not improve from 1.68285\n",
      "Epoch 31/100\n",
      "168/168 [==============================] - 1s 3ms/step - loss: 0.2933 - accuracy: 0.9098 - val_loss: 1.7483 - val_accuracy: 0.6279\n",
      "\n",
      "Epoch 00031: val_loss did not improve from 1.68285\n",
      "Epoch 32/100\n",
      "168/168 [==============================] - 0s 3ms/step - loss: 0.2753 - accuracy: 0.9202 - val_loss: 1.6841 - val_accuracy: 0.6212\n",
      "\n",
      "Epoch 00032: val_loss did not improve from 1.68285\n",
      "Epoch 33/100\n",
      "168/168 [==============================] - 1s 3ms/step - loss: 0.2439 - accuracy: 0.9247 - val_loss: 1.6991 - val_accuracy: 0.6353\n",
      "\n",
      "Epoch 00033: val_loss did not improve from 1.68285\n",
      "Epoch 34/100\n",
      "168/168 [==============================] - 1s 3ms/step - loss: 0.2739 - accuracy: 0.9165 - val_loss: 1.7279 - val_accuracy: 0.6227\n",
      "\n",
      "Epoch 00034: val_loss did not improve from 1.68285\n",
      "Epoch 35/100\n",
      "168/168 [==============================] - 0s 3ms/step - loss: 0.2505 - accuracy: 0.9252 - val_loss: 1.8071 - val_accuracy: 0.6197\n",
      "\n",
      "Epoch 00035: val_loss did not improve from 1.68285\n",
      "Epoch 36/100\n",
      "168/168 [==============================] - 1s 3ms/step - loss: 0.2778 - accuracy: 0.9141 - val_loss: 1.8192 - val_accuracy: 0.6339\n",
      "\n",
      "Epoch 00036: val_loss did not improve from 1.68285\n",
      "Epoch 37/100\n",
      "168/168 [==============================] - 1s 3ms/step - loss: 0.2735 - accuracy: 0.9180 - val_loss: 1.7453 - val_accuracy: 0.6316\n",
      "\n",
      "Epoch 00037: val_loss did not improve from 1.68285\n",
      "Epoch 38/100\n",
      "168/168 [==============================] - 1s 4ms/step - loss: 0.2464 - accuracy: 0.9247 - val_loss: 1.7185 - val_accuracy: 0.6219\n",
      "\n",
      "Epoch 00038: val_loss did not improve from 1.68285\n",
      "Epoch 39/100\n",
      "168/168 [==============================] - 1s 6ms/step - loss: 0.2557 - accuracy: 0.9215 - val_loss: 1.7946 - val_accuracy: 0.6391\n",
      "\n",
      "Epoch 00039: val_loss did not improve from 1.68285\n",
      "Epoch 40/100\n",
      "168/168 [==============================] - 1s 5ms/step - loss: 0.2411 - accuracy: 0.9316 - val_loss: 1.8353 - val_accuracy: 0.6264\n",
      "\n",
      "Epoch 00040: val_loss did not improve from 1.68285\n",
      "Epoch 41/100\n",
      "168/168 [==============================] - 1s 3ms/step - loss: 0.2407 - accuracy: 0.9269 - val_loss: 1.8183 - val_accuracy: 0.6406\n",
      "\n",
      "Epoch 00041: val_loss did not improve from 1.68285\n",
      "Epoch 42/100\n"
     ]
    },
    {
     "name": "stdout",
     "output_type": "stream",
     "text": [
      "168/168 [==============================] - 1s 4ms/step - loss: 0.2701 - accuracy: 0.9174 - val_loss: 1.7639 - val_accuracy: 0.6316\n",
      "\n",
      "Epoch 00042: val_loss did not improve from 1.68285\n",
      "Epoch 43/100\n",
      "168/168 [==============================] - 1s 4ms/step - loss: 0.2700 - accuracy: 0.9150 - val_loss: 1.7379 - val_accuracy: 0.6406\n",
      "\n",
      "Epoch 00043: val_loss did not improve from 1.68285\n",
      "Epoch 44/100\n",
      "168/168 [==============================] - 1s 4ms/step - loss: 0.2424 - accuracy: 0.9221 - val_loss: 1.7283 - val_accuracy: 0.6115\n",
      "\n",
      "Epoch 00044: val_loss did not improve from 1.68285\n",
      "Epoch 45/100\n",
      "168/168 [==============================] - 1s 5ms/step - loss: 0.2470 - accuracy: 0.9245 - val_loss: 1.7716 - val_accuracy: 0.6219\n",
      "\n",
      "Epoch 00045: val_loss did not improve from 1.68285\n",
      "Epoch 46/100\n",
      "168/168 [==============================] - 1s 5ms/step - loss: 0.2721 - accuracy: 0.9193 - val_loss: 1.6802 - val_accuracy: 0.6510\n",
      "\n",
      "Epoch 00046: val_loss improved from 1.68285 to 1.68020, saving model to saved_models/audio_classification.hdf5\n",
      "Epoch 47/100\n",
      "168/168 [==============================] - 1s 5ms/step - loss: 0.2212 - accuracy: 0.9280 - val_loss: 1.7956 - val_accuracy: 0.6398\n",
      "\n",
      "Epoch 00047: val_loss did not improve from 1.68020\n",
      "Epoch 48/100\n",
      "168/168 [==============================] - 1s 5ms/step - loss: 0.2356 - accuracy: 0.9320 - val_loss: 1.8090 - val_accuracy: 0.6353\n",
      "\n",
      "Epoch 00048: val_loss did not improve from 1.68020\n",
      "Epoch 49/100\n",
      "168/168 [==============================] - 1s 6ms/step - loss: 0.2155 - accuracy: 0.9359 - val_loss: 1.8148 - val_accuracy: 0.6413\n",
      "\n",
      "Epoch 00049: val_loss did not improve from 1.68020\n",
      "Epoch 50/100\n",
      "168/168 [==============================] - 1s 4ms/step - loss: 0.2562 - accuracy: 0.9228 - val_loss: 1.7955 - val_accuracy: 0.6316\n",
      "\n",
      "Epoch 00050: val_loss did not improve from 1.68020\n",
      "Epoch 51/100\n",
      "168/168 [==============================] - 1s 3ms/step - loss: 0.2570 - accuracy: 0.9223 - val_loss: 1.8429 - val_accuracy: 0.6316\n",
      "\n",
      "Epoch 00051: val_loss did not improve from 1.68020\n",
      "Epoch 52/100\n",
      "168/168 [==============================] - 1s 3ms/step - loss: 0.2398 - accuracy: 0.9290 - val_loss: 1.8918 - val_accuracy: 0.6294\n",
      "\n",
      "Epoch 00052: val_loss did not improve from 1.68020\n",
      "Epoch 53/100\n",
      "168/168 [==============================] - 1s 3ms/step - loss: 0.2581 - accuracy: 0.9221 - val_loss: 1.8510 - val_accuracy: 0.6435\n",
      "\n",
      "Epoch 00053: val_loss did not improve from 1.68020\n",
      "Epoch 54/100\n",
      "168/168 [==============================] - 1s 3ms/step - loss: 0.2381 - accuracy: 0.9258 - val_loss: 1.8236 - val_accuracy: 0.6353\n",
      "\n",
      "Epoch 00054: val_loss did not improve from 1.68020\n",
      "Epoch 55/100\n",
      "168/168 [==============================] - 1s 3ms/step - loss: 0.2467 - accuracy: 0.9271 - val_loss: 1.9328 - val_accuracy: 0.6271\n",
      "\n",
      "Epoch 00055: val_loss did not improve from 1.68020\n",
      "Epoch 56/100\n",
      "168/168 [==============================] - 1s 3ms/step - loss: 0.2398 - accuracy: 0.9265 - val_loss: 1.8250 - val_accuracy: 0.6413\n",
      "\n",
      "Epoch 00056: val_loss did not improve from 1.68020\n",
      "Epoch 57/100\n",
      "168/168 [==============================] - 1s 4ms/step - loss: 0.2299 - accuracy: 0.9293 - val_loss: 1.8831 - val_accuracy: 0.6249\n",
      "\n",
      "Epoch 00057: val_loss did not improve from 1.68020\n",
      "Epoch 58/100\n",
      "168/168 [==============================] - 1s 3ms/step - loss: 0.2271 - accuracy: 0.9325 - val_loss: 1.8953 - val_accuracy: 0.6294\n",
      "\n",
      "Epoch 00058: val_loss did not improve from 1.68020\n",
      "Epoch 59/100\n",
      "168/168 [==============================] - 1s 3ms/step - loss: 0.2317 - accuracy: 0.9305 - val_loss: 1.8427 - val_accuracy: 0.6339\n",
      "\n",
      "Epoch 00059: val_loss did not improve from 1.68020\n",
      "Epoch 60/100\n",
      "168/168 [==============================] - 1s 3ms/step - loss: 0.2298 - accuracy: 0.9331 - val_loss: 1.9354 - val_accuracy: 0.6309\n",
      "\n",
      "Epoch 00060: val_loss did not improve from 1.68020\n",
      "Epoch 61/100\n",
      "168/168 [==============================] - 1s 4ms/step - loss: 0.2271 - accuracy: 0.9325 - val_loss: 1.9085 - val_accuracy: 0.6391\n",
      "\n",
      "Epoch 00061: val_loss did not improve from 1.68020\n",
      "Epoch 62/100\n",
      "168/168 [==============================] - 1s 4ms/step - loss: 0.2299 - accuracy: 0.9338 - val_loss: 2.0070 - val_accuracy: 0.6249\n",
      "\n",
      "Epoch 00062: val_loss did not improve from 1.68020\n",
      "Epoch 63/100\n",
      "168/168 [==============================] - 1s 3ms/step - loss: 0.2519 - accuracy: 0.9284 - val_loss: 1.8157 - val_accuracy: 0.6361\n",
      "\n",
      "Epoch 00063: val_loss did not improve from 1.68020\n",
      "Epoch 64/100\n",
      "168/168 [==============================] - 1s 3ms/step - loss: 0.2300 - accuracy: 0.9308 - val_loss: 1.8466 - val_accuracy: 0.6234\n",
      "\n",
      "Epoch 00064: val_loss did not improve from 1.68020\n",
      "Epoch 65/100\n",
      "168/168 [==============================] - 1s 3ms/step - loss: 0.2237 - accuracy: 0.9308 - val_loss: 1.9577 - val_accuracy: 0.6271\n",
      "\n",
      "Epoch 00065: val_loss did not improve from 1.68020\n",
      "Epoch 66/100\n",
      "168/168 [==============================] - 1s 3ms/step - loss: 0.2411 - accuracy: 0.9312 - val_loss: 1.8726 - val_accuracy: 0.6227\n",
      "\n",
      "Epoch 00066: val_loss did not improve from 1.68020\n",
      "Epoch 67/100\n",
      "168/168 [==============================] - 1s 4ms/step - loss: 0.2141 - accuracy: 0.9394 - val_loss: 1.9020 - val_accuracy: 0.6219\n",
      "\n",
      "Epoch 00067: val_loss did not improve from 1.68020\n",
      "Epoch 68/100\n",
      "168/168 [==============================] - 1s 3ms/step - loss: 0.2343 - accuracy: 0.9336 - val_loss: 1.8335 - val_accuracy: 0.6294\n",
      "\n",
      "Epoch 00068: val_loss did not improve from 1.68020\n",
      "Epoch 69/100\n",
      "168/168 [==============================] - 1s 4ms/step - loss: 0.2042 - accuracy: 0.9383 - val_loss: 1.9290 - val_accuracy: 0.6227\n",
      "\n",
      "Epoch 00069: val_loss did not improve from 1.68020\n",
      "Epoch 70/100\n",
      "168/168 [==============================] - 1s 3ms/step - loss: 0.2322 - accuracy: 0.9325 - val_loss: 1.8851 - val_accuracy: 0.6197\n",
      "\n",
      "Epoch 00070: val_loss did not improve from 1.68020\n",
      "Epoch 71/100\n",
      "168/168 [==============================] - 1s 4ms/step - loss: 0.2048 - accuracy: 0.9385 - val_loss: 1.9492 - val_accuracy: 0.6339\n",
      "\n",
      "Epoch 00071: val_loss did not improve from 1.68020\n",
      "Epoch 72/100\n",
      "168/168 [==============================] - 1s 4ms/step - loss: 0.2787 - accuracy: 0.9245 - val_loss: 1.7721 - val_accuracy: 0.6428\n",
      "\n",
      "Epoch 00072: val_loss did not improve from 1.68020\n",
      "Epoch 73/100\n",
      "168/168 [==============================] - 1s 4ms/step - loss: 0.2130 - accuracy: 0.9334 - val_loss: 1.8687 - val_accuracy: 0.6294\n",
      "\n",
      "Epoch 00073: val_loss did not improve from 1.68020\n",
      "Epoch 74/100\n",
      "168/168 [==============================] - 1s 3ms/step - loss: 0.2197 - accuracy: 0.9351 - val_loss: 1.9974 - val_accuracy: 0.6234\n",
      "\n",
      "Epoch 00074: val_loss did not improve from 1.68020\n",
      "Epoch 75/100\n",
      "168/168 [==============================] - 1s 3ms/step - loss: 0.2099 - accuracy: 0.9338 - val_loss: 1.8700 - val_accuracy: 0.6376\n",
      "\n",
      "Epoch 00075: val_loss did not improve from 1.68020\n",
      "Epoch 76/100\n",
      "168/168 [==============================] - 1s 3ms/step - loss: 0.2489 - accuracy: 0.9280 - val_loss: 1.7996 - val_accuracy: 0.6167\n",
      "\n",
      "Epoch 00076: val_loss did not improve from 1.68020\n",
      "Epoch 77/100\n",
      "168/168 [==============================] - 1s 3ms/step - loss: 0.2173 - accuracy: 0.9323 - val_loss: 1.8061 - val_accuracy: 0.6413\n",
      "\n",
      "Epoch 00077: val_loss did not improve from 1.68020\n",
      "Epoch 78/100\n",
      "168/168 [==============================] - 1s 3ms/step - loss: 0.2128 - accuracy: 0.9377 - val_loss: 1.9217 - val_accuracy: 0.6227\n",
      "\n",
      "Epoch 00078: val_loss did not improve from 1.68020\n",
      "Epoch 79/100\n",
      "168/168 [==============================] - 0s 3ms/step - loss: 0.2100 - accuracy: 0.9368 - val_loss: 1.9890 - val_accuracy: 0.6346\n",
      "\n",
      "Epoch 00079: val_loss did not improve from 1.68020\n",
      "Epoch 80/100\n",
      "168/168 [==============================] - 1s 3ms/step - loss: 0.1984 - accuracy: 0.9394 - val_loss: 1.9441 - val_accuracy: 0.6242\n",
      "\n",
      "Epoch 00080: val_loss did not improve from 1.68020\n",
      "Epoch 81/100\n",
      "168/168 [==============================] - 1s 3ms/step - loss: 0.2086 - accuracy: 0.9344 - val_loss: 1.8729 - val_accuracy: 0.6428\n",
      "\n",
      "Epoch 00081: val_loss did not improve from 1.68020\n",
      "Epoch 82/100\n",
      "168/168 [==============================] - 1s 3ms/step - loss: 0.2023 - accuracy: 0.9372 - val_loss: 1.9071 - val_accuracy: 0.6264\n",
      "\n",
      "Epoch 00082: val_loss did not improve from 1.68020\n",
      "Epoch 83/100\n",
      "168/168 [==============================] - 1s 3ms/step - loss: 0.2098 - accuracy: 0.9374 - val_loss: 1.8969 - val_accuracy: 0.6376\n"
     ]
    },
    {
     "name": "stdout",
     "output_type": "stream",
     "text": [
      "\n",
      "Epoch 00083: val_loss did not improve from 1.68020\n",
      "Epoch 84/100\n",
      "168/168 [==============================] - 1s 4ms/step - loss: 0.2185 - accuracy: 0.9346 - val_loss: 1.7871 - val_accuracy: 0.6570\n",
      "\n",
      "Epoch 00084: val_loss did not improve from 1.68020\n",
      "Epoch 85/100\n",
      "168/168 [==============================] - 1s 3ms/step - loss: 0.2129 - accuracy: 0.9361 - val_loss: 1.7798 - val_accuracy: 0.6301\n",
      "\n",
      "Epoch 00085: val_loss did not improve from 1.68020\n",
      "Epoch 86/100\n",
      "168/168 [==============================] - 1s 3ms/step - loss: 0.2065 - accuracy: 0.9396 - val_loss: 1.9357 - val_accuracy: 0.6376\n",
      "\n",
      "Epoch 00086: val_loss did not improve from 1.68020\n",
      "Epoch 87/100\n",
      "168/168 [==============================] - 0s 3ms/step - loss: 0.2098 - accuracy: 0.9416 - val_loss: 1.8000 - val_accuracy: 0.6458\n",
      "\n",
      "Epoch 00087: val_loss did not improve from 1.68020\n",
      "Epoch 88/100\n",
      "168/168 [==============================] - 1s 3ms/step - loss: 0.1984 - accuracy: 0.9415 - val_loss: 1.9814 - val_accuracy: 0.6301\n",
      "\n",
      "Epoch 00088: val_loss did not improve from 1.68020\n",
      "Epoch 89/100\n",
      "168/168 [==============================] - 1s 3ms/step - loss: 0.1882 - accuracy: 0.9463 - val_loss: 2.0614 - val_accuracy: 0.6271\n",
      "\n",
      "Epoch 00089: val_loss did not improve from 1.68020\n",
      "Epoch 90/100\n",
      "168/168 [==============================] - 1s 3ms/step - loss: 0.2090 - accuracy: 0.9389 - val_loss: 1.9261 - val_accuracy: 0.6458\n",
      "\n",
      "Epoch 00090: val_loss did not improve from 1.68020\n",
      "Epoch 91/100\n",
      "168/168 [==============================] - 1s 4ms/step - loss: 0.2387 - accuracy: 0.9310 - val_loss: 1.8452 - val_accuracy: 0.6301\n",
      "\n",
      "Epoch 00091: val_loss did not improve from 1.68020\n",
      "Epoch 92/100\n",
      "168/168 [==============================] - 1s 3ms/step - loss: 0.2094 - accuracy: 0.9389 - val_loss: 1.8816 - val_accuracy: 0.6189\n",
      "\n",
      "Epoch 00092: val_loss did not improve from 1.68020\n",
      "Epoch 93/100\n",
      "168/168 [==============================] - 1s 3ms/step - loss: 0.1926 - accuracy: 0.9387 - val_loss: 1.9946 - val_accuracy: 0.6339\n",
      "\n",
      "Epoch 00093: val_loss did not improve from 1.68020\n",
      "Epoch 94/100\n",
      "168/168 [==============================] - 1s 3ms/step - loss: 0.2087 - accuracy: 0.9398 - val_loss: 1.9135 - val_accuracy: 0.6421\n",
      "\n",
      "Epoch 00094: val_loss did not improve from 1.68020\n",
      "Epoch 95/100\n",
      "168/168 [==============================] - 1s 4ms/step - loss: 0.2120 - accuracy: 0.9389 - val_loss: 1.9718 - val_accuracy: 0.6249\n",
      "\n",
      "Epoch 00095: val_loss did not improve from 1.68020\n",
      "Epoch 96/100\n",
      "168/168 [==============================] - 1s 3ms/step - loss: 0.1860 - accuracy: 0.9452 - val_loss: 1.9676 - val_accuracy: 0.6160\n",
      "\n",
      "Epoch 00096: val_loss did not improve from 1.68020\n",
      "Epoch 97/100\n",
      "168/168 [==============================] - 1s 4ms/step - loss: 0.2374 - accuracy: 0.9333 - val_loss: 1.8507 - val_accuracy: 0.6294\n",
      "\n",
      "Epoch 00097: val_loss did not improve from 1.68020\n",
      "Epoch 98/100\n",
      "168/168 [==============================] - 1s 3ms/step - loss: 0.2017 - accuracy: 0.9480 - val_loss: 1.8598 - val_accuracy: 0.6421\n",
      "\n",
      "Epoch 00098: val_loss did not improve from 1.68020\n",
      "Epoch 99/100\n",
      "168/168 [==============================] - 0s 3ms/step - loss: 0.2115 - accuracy: 0.9361 - val_loss: 1.8975 - val_accuracy: 0.6473\n",
      "\n",
      "Epoch 00099: val_loss did not improve from 1.68020\n",
      "Epoch 100/100\n",
      "168/168 [==============================] - 0s 3ms/step - loss: 0.2079 - accuracy: 0.9400 - val_loss: 1.9083 - val_accuracy: 0.6316\n",
      "\n",
      "Epoch 00100: val_loss did not improve from 1.68020\n",
      "Training completed in time:  0:00:59.378360\n"
     ]
    }
   ],
   "source": [
    "# Trianing model ;)\n",
    "from tensorflow.keras.callbacks import ModelCheckpoint\n",
    "from datetime import datetime \n",
    "\n",
    "num_epochs = 100\n",
    "num_batch_size = 32\n",
    "\n",
    "checkpointer = ModelCheckpoint(filepath='saved_models/audio_classification.hdf5', \n",
    "                               verbose=1, save_best_only=True)\n",
    "start = datetime.now()\n",
    "\n",
    "model.fit(X_train, y_train, batch_size=num_batch_size, epochs=num_epochs, validation_data=(X_test, y_test), callbacks=[checkpointer], verbose=1)\n",
    "\n",
    "\n",
    "duration = datetime.now() - start\n",
    "print(\"Training completed in time: \", duration)"
   ]
  },
  {
   "cell_type": "code",
   "execution_count": 189,
   "id": "c445b904",
   "metadata": {},
   "outputs": [
    {
     "name": "stdout",
     "output_type": "stream",
     "text": [
      "0.6316182017326355\n"
     ]
    }
   ],
   "source": [
    "test_accuracy=model.evaluate(X_test,y_test,verbose=0)\n",
    "print(test_accuracy[1])"
   ]
  },
  {
   "cell_type": "code",
   "execution_count": 194,
   "id": "61ea1cde",
   "metadata": {},
   "outputs": [
    {
     "data": {
      "text/plain": [
       "array([0])"
      ]
     },
     "execution_count": 194,
     "metadata": {},
     "output_type": "execute_result"
    }
   ],
   "source": [
    "filename=\"/home/siddhu/Downloads/IBM DATASET/IRMAS dataset-20210515T054853Z-001/IRMAS dataset/IRMAS-TrainingData/cel/012__[cel][nod][cla]0043__1.wav\"\n",
    "prediction_feature=feature_extraction(filename)\n",
    "prediction_feature=prediction_feature.reshape(1,-1)\n",
    "model.predict_classes(prediction_feature)"
   ]
  }
 ],
 "metadata": {
  "kernelspec": {
   "display_name": "Python 3",
   "language": "python",
   "name": "python3"
  },
  "language_info": {
   "codemirror_mode": {
    "name": "ipython",
    "version": 3
   },
   "file_extension": ".py",
   "mimetype": "text/x-python",
   "name": "python",
   "nbconvert_exporter": "python",
   "pygments_lexer": "ipython3",
   "version": "3.8.8"
  }
 },
 "nbformat": 4,
 "nbformat_minor": 5
}
